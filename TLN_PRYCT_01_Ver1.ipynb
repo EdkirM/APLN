{
 "cells": [
  {
   "cell_type": "code",
   "execution_count": 42,
   "metadata": {},
   "outputs": [
    {
     "name": "stdout",
     "output_type": "stream",
     "text": [
      "Inserte sus palabras: \n",
      "asdf wer vbc\n",
      "asdf\n",
      "wer\n",
      "vbc\n",
      "6\n",
      "-1\n",
      "-1\n",
      "-1\n",
      "-1\n",
      "asdf\n",
      "wer\n",
      "vbc\n",
      "-----------------------------------\n",
      "asdf\n",
      "wer\n",
      "vbc\n",
      "['asdf', 'wer', 'vbc']\n"
     ]
    }
   ],
   "source": [
    "print(\"Inserte sus palabras: \")\n",
    "frase=input()\n",
    "print(f\"{frase}\")\n",
    "\n",
    "div1 = frase.find(\" \")\n",
    "p1 = frase[:div1]\n",
    "f2 = frase[div1+1:]\n",
    "div2 = f2.find(\" \")\n",
    "p2 = f2[:div2]\n",
    "p3 = f2[div2+1:]\n",
    "print(p1)\n",
    "print(p2)\n",
    "print(p3)\n",
    "\n",
    "\n",
    "print(frase.find(\"er\"))\n",
    "print(frase.find(\"ar\"))\n",
    "print(frase.find(\"ir\"))\n",
    "print(frase.find(\"í \"))\n",
    "print(frase.find(\"ó \"))\n",
    "\n",
    "    \n",
    "vector_palabras = [p1,p2,p3]\n",
    "\n",
    "# Acceder a los elementos del vector\n",
    "print(vector_palabras[0])  # Output: hola\n",
    "print(vector_palabras[1])  # Output: mundo\n",
    "print(vector_palabras[2])\n",
    "print(\"-----------------------------------\")\n",
    "# Iterar sobre el vector de palabras\n",
    "for palabra in vector_palabras:\n",
    "    print(palabra)\n",
    "print(vector_palabras)\n",
    "\n",
    "\n"
   ]
  }
 ],
 "metadata": {
  "kernelspec": {
   "display_name": "Python 3",
   "language": "python",
   "name": "python3"
  },
  "language_info": {
   "codemirror_mode": {
    "name": "ipython",
    "version": 3
   },
   "file_extension": ".py",
   "mimetype": "text/x-python",
   "name": "python",
   "nbconvert_exporter": "python",
   "pygments_lexer": "ipython3",
   "version": "3.11.5"
  }
 },
 "nbformat": 4,
 "nbformat_minor": 2
}
