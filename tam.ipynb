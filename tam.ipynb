{
 "cells": [
  {
   "cell_type": "code",
   "execution_count": null,
   "metadata": {},
   "outputs": [],
   "source": [
    "from PIL import Image\n",
    "\n",
    "def cambiar_tamano(input_path, output_path, nuevo_ancho, nuevo_alto):\n",
    "    # Abrir la imagen\n",
    "    imagen = Image.open(input_path)\n",
    "    \n",
    "    # Cambiar el tamaño de la imagen\n",
    "    imagen_cambiada = imagen.resize((nuevo_ancho, nuevo_alto))\n",
    "    \n",
    "    # Guardar la imagen con el nuevo tamaño\n",
    "    imagen_cambiada.save(output_path)\n",
    "\n",
    "if _name_ == \"_main_\":\n",
    "    # Especifica la ruta de la imagen de entrada\n",
    "     for i in range(1,50):\n",
    "          nombre = str(i) + \".jpg\"\n",
    "\n",
    "          input_path = nombre\n",
    "          \n",
    "          # Especifica la ruta de la imagen de salida\n",
    "          output_path = str(i) + \"n.jpg\"\n",
    "          \n",
    "          # Especifica el nuevo ancho y alto deseado\n",
    "          nuevo_ancho = 800\n",
    "          nuevo_alto = 800\n",
    "          \n",
    "          # Llamar a la función para cambiar el tamaño de la imagen\n",
    "          cambiar_tamano(input_path, output_path, nuevo_ancho, nuevo_alto)"
   ]
  }
 ],
 "metadata": {
  "language_info": {
   "name": "python"
  }
 },
 "nbformat": 4,
 "nbformat_minor": 2
}
